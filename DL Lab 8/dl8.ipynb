{
  "nbformat": 4,
  "nbformat_minor": 0,
  "metadata": {
    "colab": {
      "provenance": []
    },
    "kernelspec": {
      "name": "python3",
      "display_name": "Python 3"
    },
    "language_info": {
      "name": "python"
    }
  },
  "cells": [
    {
      "cell_type": "markdown",
      "metadata": {
        "id": "8sow9f0r1dUe"
      },
      "source": [
        "# DL EXP 8 : CNN to recognize handwritten digits"
      ]
    },
    {
      "cell_type": "code",
      "metadata": {
        "id": "l1Pf0_JzJERA"
      },
      "source": [
        "import tensorflow as tf\n",
        "from tensorflow.keras import layers,models\n",
        "from tensorflow import keras\n",
        "import numpy as np\n",
        "import matplotlib.pyplot as plt"
      ],
      "execution_count": 10,
      "outputs": []
    },
    {
      "cell_type": "code",
      "metadata": {
        "id": "ZXAgaoRSJOYY",
        "colab": {
          "base_uri": "https://localhost:8080/"
        },
        "outputId": "f55dba92-4636-488d-f8ba-118d0ca679eb"
      },
      "source": [
        "(X_train, y_train) , (X_test, y_test) = keras.datasets.mnist.load_data()"
      ],
      "execution_count": 2,
      "outputs": [
        {
          "output_type": "stream",
          "name": "stdout",
          "text": [
            "Downloading data from https://storage.googleapis.com/tensorflow/tf-keras-datasets/mnist.npz\n",
            "11490434/11490434 [==============================] - 0s 0us/step\n"
          ]
        }
      ]
    },
    {
      "cell_type": "code",
      "metadata": {
        "id": "t9PM9BiXJa0b"
      },
      "source": [
        "X_train = X_train / 255\n",
        "X_test = X_test / 255"
      ],
      "execution_count": 3,
      "outputs": []
    },
    {
      "cell_type": "code",
      "source": [
        "plt.matshow(X_test[0])"
      ],
      "metadata": {
        "colab": {
          "base_uri": "https://localhost:8080/",
          "height": 292
        },
        "id": "zg7aP4NEGJw1",
        "outputId": "7e128e69-8552-4117-fe57-729f36791a50"
      },
      "execution_count": 11,
      "outputs": [
        {
          "output_type": "execute_result",
          "data": {
            "text/plain": [
              "<matplotlib.image.AxesImage at 0x7f683cedbe20>"
            ]
          },
          "metadata": {},
          "execution_count": 11
        },
        {
          "output_type": "display_data",
          "data": {
            "text/plain": [
              "<Figure size 288x288 with 1 Axes>"
            ],
            "image/png": "[encoded data removed]"
          },
          "metadata": {
            "needs_background": "light"
          }
        }
      ]
    },
    {
      "cell_type": "code",
      "metadata": {
        "colab": {
          "base_uri": "https://localhost:8080/"
        },
        "id": "SFdJ6dQpbuze",
        "outputId": "799f8429-9f9a-4633-e984-dad611cc680f"
      },
      "source": [
        "X_train.shape"
      ],
      "execution_count": 5,
      "outputs": [
        {
          "output_type": "execute_result",
          "data": {
            "text/plain": [
              "(60000, 28, 28)"
            ]
          },
          "metadata": {},
          "execution_count": 5
        }
      ]
    },
    {
      "cell_type": "code",
      "metadata": {
        "colab": {
          "base_uri": "https://localhost:8080/"
        },
        "id": "_oEAnGmoic_a",
        "outputId": "701ae7dc-c276-4916-fd05-9263cc54ddaa"
      },
      "source": [
        "X_train = X_train.reshape(-1,28,28,1)\n",
        "X_train.shape"
      ],
      "execution_count": 6,
      "outputs": [
        {
          "output_type": "execute_result",
          "data": {
            "text/plain": [
              "(60000, 28, 28, 1)"
            ]
          },
          "metadata": {},
          "execution_count": 6
        }
      ]
    },
    {
      "cell_type": "code",
      "metadata": {
        "colab": {
          "base_uri": "https://localhost:8080/"
        },
        "id": "d-6Fx5x5ifSQ",
        "outputId": "3667198b-2b2e-4bb3-ae5c-8d93d5340c7b"
      },
      "source": [
        "X_test = X_test.reshape(-1,28,28,1)\n",
        "X_test.shape"
      ],
      "execution_count": 7,
      "outputs": [
        {
          "output_type": "execute_result",
          "data": {
            "text/plain": [
              "(10000, 28, 28, 1)"
            ]
          },
          "metadata": {},
          "execution_count": 7
        }
      ]
    },
    {
      "cell_type": "code",
      "metadata": {
        "id": "Fk5dFInaJvQe"
      },
      "source": [
        "convolutional_neural_network = models.Sequential([\n",
        "    layers.Conv2D(filters=25, kernel_size=(3, 3), activation='relu', input_shape=(28,28,1)),\n",
        "    layers.MaxPooling2D((2, 2)),\n",
        "    \n",
        "    layers.Conv2D(filters=64, kernel_size=(3, 3), activation='relu'),\n",
        "    layers.MaxPooling2D((2, 2)),\n",
        "\n",
        "    layers.Conv2D(filters=64, kernel_size=(3, 3), activation='relu'),\n",
        "    layers.MaxPooling2D((2, 2)),\n",
        "    \n",
        "    layers.Flatten(),\n",
        "    layers.Dense(64, activation='relu'),\n",
        "    layers.Dense(10, activation='softmax')\n",
        "])"
      ],
      "execution_count": 8,
      "outputs": []
    },
    {
      "cell_type": "code",
      "metadata": {
        "colab": {
          "base_uri": "https://localhost:8080/"
        },
        "id": "9_9Lq7Pmd3m9",
        "outputId": "658c89ff-ff43-4197-bbbf-44d9305bb4e6"
      },
      "source": [
        "convolutional_neural_network.compile(optimizer='adam', loss='sparse_categorical_crossentropy', metrics=['accuracy'])\n",
        "convolutional_neural_network.fit(X_train, y_train, epochs=10)"
      ],
      "execution_count": 9,
      "outputs": [
        {
          "output_type": "stream",
          "name": "stdout",
          "text": [
            "Epoch 1/10\n",
            "1875/1875 [==============================] - 58s 30ms/step - loss: 0.2211 - accuracy: 0.9326\n",
            "Epoch 2/10\n",
            "1875/1875 [==============================] - 53s 28ms/step - loss: 0.0734 - accuracy: 0.9776\n",
            "Epoch 3/10\n",
            "1875/1875 [==============================] - 53s 28ms/step - loss: 0.0548 - accuracy: 0.9826\n",
            "Epoch 4/10\n",
            "1875/1875 [==============================] - 55s 29ms/step - loss: 0.0419 - accuracy: 0.9869\n",
            "Epoch 5/10\n",
            "1875/1875 [==============================] - 66s 35ms/step - loss: 0.0351 - accuracy: 0.9887\n",
            "Epoch 6/10\n",
            "1875/1875 [==============================] - 52s 28ms/step - loss: 0.0277 - accuracy: 0.9913\n",
            "Epoch 7/10\n",
            "1875/1875 [==============================] - 51s 27ms/step - loss: 0.0231 - accuracy: 0.9931\n",
            "Epoch 8/10\n",
            "1875/1875 [==============================] - 53s 28ms/step - loss: 0.0192 - accuracy: 0.9941\n",
            "Epoch 9/10\n",
            "1875/1875 [==============================] - 51s 27ms/step - loss: 0.0164 - accuracy: 0.9947\n",
            "Epoch 10/10\n",
            "1875/1875 [==============================] - 51s 27ms/step - loss: 0.0145 - accuracy: 0.9953\n"
          ]
        },
        {
          "output_type": "execute_result",
          "data": {
            "text/plain": [
              "<keras.callbacks.History at 0x7f683d290640>"
            ]
          },
          "metadata": {},
          "execution_count": 9
        }
      ]
    },
    {
      "cell_type": "code",
      "metadata": {
        "id": "0J7O7tT9J2x7",
        "colab": {
          "base_uri": "https://localhost:8080/"
        },
        "outputId": "c12ccf5d-bbcc-4149-d707-9bbc7541c333"
      },
      "source": [
        "convolutional_neural_network.evaluate(X_test, y_test)"
      ],
      "execution_count": 12,
      "outputs": [
        {
          "output_type": "stream",
          "name": "stdout",
          "text": [
            "313/313 [==============================] - 3s 9ms/step - loss: 0.0570 - accuracy: 0.9859\n"
          ]
        },
        {
          "output_type": "execute_result",
          "data": {
            "text/plain": [
              "[0.056973278522491455, 0.9858999848365784]"
            ]
          },
          "metadata": {},
          "execution_count": 12
        }
      ]
    },
    {
      "cell_type": "code",
      "metadata": {
        "colab": {
          "base_uri": "https://localhost:8080/"
        },
        "id": "olPSi4-3J5fR",
        "outputId": "04dab4cb-4566-4010-cb20-e1d846aff6b8"
      },
      "source": [
        "y_predicted_by_model = convolutional_neural_network.predict(X_test)\n",
        "y_predicted_by_model[0]   #getting probability score for each class digits"
      ],
      "execution_count": 13,
      "outputs": [
        {
          "output_type": "stream",
          "name": "stdout",
          "text": [
            "313/313 [==============================] - 5s 15ms/step\n"
          ]
        },
        {
          "output_type": "execute_result",
          "data": {
            "text/plain": [
              "array([1.2078283e-07, 5.4993876e-07, 2.0369849e-07, 1.9932694e-08,\n",
              "       7.0972908e-09, 2.8125341e-10, 3.1638015e-15, 9.9999899e-01,\n",
              "       5.3020411e-11, 1.3381870e-08], dtype=float32)"
            ]
          },
          "metadata": {},
          "execution_count": 13
        }
      ]
    },
    {
      "cell_type": "code",
      "source": [
        "plt.matshow(X_test[1])"
      ],
      "metadata": {
        "colab": {
          "base_uri": "https://localhost:8080/",
          "height": 292
        },
        "id": "E8Is6d8nIIDB",
        "outputId": "8ac006f3-9b4b-4d20-e608-033e35723fd4"
      },
      "execution_count": 19,
      "outputs": [
        {
          "output_type": "execute_result",
          "data": {
            "text/plain": [
              "<matplotlib.image.AxesImage at 0x7f68180a3040>"
            ]
          },
          "metadata": {},
          "execution_count": 19
        },
        {
          "output_type": "display_data",
          "data": {
            "text/plain": [
              "<Figure size 288x288 with 1 Axes>"
            ],
            "image/png": "[encoded data removed]"
          },
          "metadata": {
            "needs_background": "light"
          }
        }
      ]
    },
    {
      "cell_type": "code",
      "source": [
        "y_predicted_by_model[1]"
      ],
      "metadata": {
        "colab": {
          "base_uri": "https://localhost:8080/"
        },
        "id": "MmAvZmMPIAxk",
        "outputId": "4ec68943-830f-4381-df42-250d46022e8d"
      },
      "execution_count": 20,
      "outputs": [
        {
          "output_type": "execute_result",
          "data": {
            "text/plain": [
              "array([1.5846422e-06, 6.1425492e-10, 9.9999827e-01, 5.0472181e-08,\n",
              "       9.2467243e-09, 1.1203098e-12, 4.2226461e-08, 1.3774293e-08,\n",
              "       1.3588680e-08, 8.5156660e-10], dtype=float32)"
            ]
          },
          "metadata": {},
          "execution_count": 20
        }
      ]
    },
    {
      "cell_type": "code",
      "metadata": {
        "colab": {
          "base_uri": "https://localhost:8080/"
        },
        "id": "C_TUt8iYJ_uv",
        "outputId": "ba7ccc0e-0589-4c31-83ea-f86095027339"
      },
      "source": [
        "np.argmax(y_predicted_by_model[1])"
      ],
      "execution_count": 21,
      "outputs": [
        {
          "output_type": "execute_result",
          "data": {
            "text/plain": [
              "2"
            ]
          },
          "metadata": {},
          "execution_count": 21
        }
      ]
    },
    {
      "cell_type": "code",
      "metadata": {
        "id": "pu62ekGXKC5g"
      },
      "source": [
        "y_predicted_labels = [np.argmax(i) for i in y_predicted_by_model]"
      ],
      "execution_count": 16,
      "outputs": []
    },
    {
      "cell_type": "code",
      "metadata": {
        "colab": {
          "base_uri": "https://localhost:8080/"
        },
        "id": "5cD33oTFKGDA",
        "outputId": "8aaf4eef-f6be-43bc-a84e-e1e499dc474c"
      },
      "source": [
        "y_predicted_labels[:5]"
      ],
      "execution_count": 17,
      "outputs": [
        {
          "output_type": "execute_result",
          "data": {
            "text/plain": [
              "[7, 2, 1, 0, 4]"
            ]
          },
          "metadata": {},
          "execution_count": 17
        }
      ]
    }
  ]
}